{
 "cells": [
  {
   "cell_type": "code",
   "execution_count": 5,
   "metadata": {},
   "outputs": [
    {
     "data": {
      "text/plain": [
       "-120 \\, \\sin\\left(x\\right)^{2} \\tan\\left(x\\right)^{6} - 240 \\, \\cos\\left(x\\right) \\sin\\left(x\\right) \\tan\\left(x\\right)^{5} - 120 \\, \\cos\\left(x\\right)^{2} \\tan\\left(x\\right)^{4} - 120 \\, \\sin\\left(x\\right)^{2} \\tan\\left(x\\right)^{4} - 240 \\, \\cos\\left(x\\right) \\sin\\left(x\\right) \\tan\\left(x\\right)^{3} - 120 \\, \\cos\\left(x\\right)^{2} \\tan\\left(x\\right)^{2} - 16 \\, \\sin\\left(x\\right)^{2} \\tan\\left(x\\right)^{2} - 32 \\, \\cos\\left(x\\right) \\sin\\left(x\\right) \\tan\\left(x\\right) - 16 \\, \\sin\\left(x\\right)^{2}"
      ]
     },
     "execution_count": 5,
     "metadata": {},
     "output_type": "execute_result"
    }
   ],
   "source": [
    "var('x')\n",
    "f = x^3 -1*sin(x)^2*tan(x)\n",
    "latex(f.derivative(x,5).factor())"
   ]
  },
  {
   "cell_type": "code",
   "execution_count": 7,
   "metadata": {},
   "outputs": [
    {
     "data": {
      "text/plain": [
       "-24 \\, x \\tan\\left(x\\right)^{5} - 40 \\, x \\tan\\left(x\\right)^{3} - 24 \\, \\tan\\left(x\\right)^{4} + 8 \\, \\cos\\left(x\\right)^{2} - 8 \\, \\sin\\left(x\\right)^{2} - 16 \\, x \\tan\\left(x\\right) - 32 \\, \\tan\\left(x\\right)^{2} - 8"
      ]
     },
     "execution_count": 7,
     "metadata": {},
     "output_type": "execute_result"
    }
   ],
   "source": [
    "g = 2*x^2 -1*sin(x)*sin(x)-1*x*tan(x)\n",
    "latex(g.derivative(x,4).factor())"
   ]
  }
 ],
 "metadata": {
  "kernelspec": {
   "display_name": "SageMath 8.9",
   "language": "sage",
   "name": "sagemath"
  },
  "language_info": {
   "codemirror_mode": {
    "name": "ipython",
    "version": 2
   },
   "file_extension": ".py",
   "mimetype": "text/x-python",
   "name": "python",
   "nbconvert_exporter": "python",
   "pygments_lexer": "ipython2",
   "version": "2.7.15"
  }
 },
 "nbformat": 4,
 "nbformat_minor": 2
}
